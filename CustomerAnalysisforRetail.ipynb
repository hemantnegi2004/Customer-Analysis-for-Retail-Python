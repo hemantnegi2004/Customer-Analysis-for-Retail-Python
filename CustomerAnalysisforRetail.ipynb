{
 "cells": [
  {
   "cell_type": "markdown",
   "id": "939f448e-e1b4-4aa2-9f57-74118114f40d",
   "metadata": {},
   "source": [
    "## CUSTOMER ANALYSIS FOR RETAIL CASE STUDY "
   ]
  },
  {
   "cell_type": "markdown",
   "id": "05928c65-d678-4543-91b6-41561ec6dd47",
   "metadata": {},
   "source": [
    "### Importing important libraries"
   ]
  },
  {
   "cell_type": "code",
   "execution_count": 42,
   "id": "53895c29-0011-4245-95fd-573ffac50897",
   "metadata": {},
   "outputs": [],
   "source": [
    "import pandas as pd\n",
    "import numpy as np\n",
    "import seaborn as sns\n",
    "import matplotlib.pyplot as plt\n",
    "import os\n",
    "import warnings \n",
    "warnings.filterwarnings('ignore')"
   ]
  },
  {
   "cell_type": "code",
   "execution_count": 44,
   "id": "fc9c9e3e-a628-4f94-866f-a4f07a956d73",
   "metadata": {},
   "outputs": [],
   "source": [
    "os.chdir('C:\\\\Users\\\\ASUS\\\\OneDrive\\\\Desktop\\\\python case studies\\\\Data Analysis Projects\\\\Case Study 1 - Retail Case Study')"
   ]
  },
  {
   "cell_type": "markdown",
   "id": "f478efcf-10eb-4772-a82b-ce0f8445eb3f",
   "metadata": {},
   "source": [
    "### Uploading Data"
   ]
  },
  {
   "cell_type": "code",
   "execution_count": 47,
   "id": "b2191ad6-74e9-44fa-9ddd-83b3d227c934",
   "metadata": {},
   "outputs": [],
   "source": [
    "customer = pd.read_csv('Customer.csv')\n",
    "prod_cat_info = pd.read_csv('prod_cat_info.csv')\n",
    "transactions = pd.read_csv('Transactions.csv')"
   ]
  },
  {
   "cell_type": "markdown",
   "id": "48b2e446-f33b-4983-bc3d-cb9ffd2a8dd4",
   "metadata": {},
   "source": [
    "### Data Preparation and Analysis"
   ]
  },
  {
   "cell_type": "markdown",
   "id": "ce2c57de-c346-415b-9da6-db04f83aae13",
   "metadata": {},
   "source": [
    "1. Merge the datasets Customers, Product Hierarchy and Transactions as Customer_Final. Ensure to keep all customers who have done transactions with us and select the join type accordingly."
   ]
  },
  {
   "cell_type": "code",
   "execution_count": 50,
   "id": "72097641-e8be-4b4c-9c4f-2f14eac6d365",
   "metadata": {},
   "outputs": [],
   "source": [
    "customer.rename(columns={'customer_Id':'cust_id'},inplace=True)\n",
    "merged_df = pd.merge(transactions,customer,on='cust_id',how='left')"
   ]
  },
  {
   "cell_type": "code",
   "execution_count": 52,
   "id": "a602a719-368b-492a-8cf9-9c908540d6c4",
   "metadata": {},
   "outputs": [],
   "source": [
    "prod_cat_info.rename(columns={'prod_sub_cat_code':'prod_subcat_code'},inplace=True)\n",
    "customer_final = pd.merge(merged_df,prod_cat_info,on=['prod_cat_code','prod_subcat_code'],how='left')"
   ]
  },
  {
   "cell_type": "code",
   "execution_count": 53,
   "id": "68d90a65-b9f5-47c2-8da6-048548415ace",
   "metadata": {},
   "outputs": [
    {
     "data": {
      "text/html": [
       "<div>\n",
       "<style scoped>\n",
       "    .dataframe tbody tr th:only-of-type {\n",
       "        vertical-align: middle;\n",
       "    }\n",
       "\n",
       "    .dataframe tbody tr th {\n",
       "        vertical-align: top;\n",
       "    }\n",
       "\n",
       "    .dataframe thead th {\n",
       "        text-align: right;\n",
       "    }\n",
       "</style>\n",
       "<table border=\"1\" class=\"dataframe\">\n",
       "  <thead>\n",
       "    <tr style=\"text-align: right;\">\n",
       "      <th></th>\n",
       "      <th>transaction_id</th>\n",
       "      <th>cust_id</th>\n",
       "      <th>tran_date</th>\n",
       "      <th>prod_subcat_code</th>\n",
       "      <th>prod_cat_code</th>\n",
       "      <th>Qty</th>\n",
       "      <th>Rate</th>\n",
       "      <th>Tax</th>\n",
       "      <th>total_amt</th>\n",
       "      <th>Store_type</th>\n",
       "      <th>DOB</th>\n",
       "      <th>Gender</th>\n",
       "      <th>city_code</th>\n",
       "      <th>prod_cat</th>\n",
       "      <th>prod_subcat</th>\n",
       "    </tr>\n",
       "  </thead>\n",
       "  <tbody>\n",
       "    <tr>\n",
       "      <th>0</th>\n",
       "      <td>80712190438</td>\n",
       "      <td>270351</td>\n",
       "      <td>28-02-2014</td>\n",
       "      <td>1</td>\n",
       "      <td>1</td>\n",
       "      <td>-5</td>\n",
       "      <td>-772</td>\n",
       "      <td>405.300</td>\n",
       "      <td>-4265.300</td>\n",
       "      <td>e-Shop</td>\n",
       "      <td>26-09-1981</td>\n",
       "      <td>M</td>\n",
       "      <td>5.0</td>\n",
       "      <td>Clothing</td>\n",
       "      <td>Women</td>\n",
       "    </tr>\n",
       "    <tr>\n",
       "      <th>1</th>\n",
       "      <td>29258453508</td>\n",
       "      <td>270384</td>\n",
       "      <td>27-02-2014</td>\n",
       "      <td>5</td>\n",
       "      <td>3</td>\n",
       "      <td>-5</td>\n",
       "      <td>-1497</td>\n",
       "      <td>785.925</td>\n",
       "      <td>-8270.925</td>\n",
       "      <td>e-Shop</td>\n",
       "      <td>11-05-1973</td>\n",
       "      <td>F</td>\n",
       "      <td>8.0</td>\n",
       "      <td>Electronics</td>\n",
       "      <td>Computers</td>\n",
       "    </tr>\n",
       "  </tbody>\n",
       "</table>\n",
       "</div>"
      ],
      "text/plain": [
       "   transaction_id  cust_id   tran_date  prod_subcat_code  prod_cat_code  Qty  \\\n",
       "0     80712190438   270351  28-02-2014                 1              1   -5   \n",
       "1     29258453508   270384  27-02-2014                 5              3   -5   \n",
       "\n",
       "   Rate      Tax  total_amt Store_type         DOB Gender  city_code  \\\n",
       "0  -772  405.300  -4265.300     e-Shop  26-09-1981      M        5.0   \n",
       "1 -1497  785.925  -8270.925     e-Shop  11-05-1973      F        8.0   \n",
       "\n",
       "      prod_cat prod_subcat  \n",
       "0     Clothing       Women  \n",
       "1  Electronics   Computers  "
      ]
     },
     "execution_count": 53,
     "metadata": {},
     "output_type": "execute_result"
    }
   ],
   "source": [
    "customer_final.head(2)"
   ]
  },
  {
   "cell_type": "markdown",
   "id": "5215f975-fdb4-4ece-be97-8c279ea0b37c",
   "metadata": {},
   "source": [
    "2. Prepare a summary report for the merged data set."
   ]
  },
  {
   "cell_type": "markdown",
   "id": "a1e9b73e-401a-4ced-b3b9-6b3d93200787",
   "metadata": {},
   "source": [
    "a. Get the column names and their corresponding data types"
   ]
  },
  {
   "cell_type": "code",
   "execution_count": 59,
   "id": "529718bf-d4cc-4973-ac8e-2aaf58d54d2d",
   "metadata": {},
   "outputs": [
    {
     "data": {
      "text/plain": [
       "transaction_id        int64\n",
       "cust_id               int64\n",
       "tran_date            object\n",
       "prod_subcat_code      int64\n",
       "prod_cat_code         int64\n",
       "Qty                   int64\n",
       "Rate                  int64\n",
       "Tax                 float64\n",
       "total_amt           float64\n",
       "Store_type           object\n",
       "DOB                  object\n",
       "Gender               object\n",
       "city_code           float64\n",
       "prod_cat             object\n",
       "prod_subcat          object\n",
       "dtype: object"
      ]
     },
     "execution_count": 59,
     "metadata": {},
     "output_type": "execute_result"
    }
   ],
   "source": [
    "customer_final.dtypes"
   ]
  },
  {
   "cell_type": "code",
   "execution_count": 61,
   "id": "13d90cdf-c9b2-48b3-aa8a-45e72ccdbeab",
   "metadata": {},
   "outputs": [],
   "source": [
    "for x in ['tran_date','DOB']:\n",
    "    customer_final[x] = pd.to_datetime(customer_final[x],errors='coerce')"
   ]
  },
  {
   "cell_type": "code",
   "execution_count": 63,
   "id": "cc25ee69-c976-4a63-9303-9951b8d96692",
   "metadata": {},
   "outputs": [
    {
     "data": {
      "text/plain": [
       "transaction_id               int64\n",
       "cust_id                      int64\n",
       "tran_date           datetime64[ns]\n",
       "prod_subcat_code             int64\n",
       "prod_cat_code                int64\n",
       "Qty                          int64\n",
       "Rate                         int64\n",
       "Tax                        float64\n",
       "total_amt                  float64\n",
       "Store_type                  object\n",
       "DOB                 datetime64[ns]\n",
       "Gender                      object\n",
       "city_code                  float64\n",
       "prod_cat                    object\n",
       "prod_subcat                 object\n",
       "dtype: object"
      ]
     },
     "execution_count": 63,
     "metadata": {},
     "output_type": "execute_result"
    }
   ],
   "source": [
    "customer_final.dtypes"
   ]
  },
  {
   "cell_type": "markdown",
   "id": "a049e404-0b74-4e4a-99a9-247b5bfef6d1",
   "metadata": {},
   "source": [
    "b. Top/Bottom 10 observations"
   ]
  },
  {
   "cell_type": "code",
   "execution_count": 66,
   "id": "815038a1-6562-4f97-918e-768f4fa68a07",
   "metadata": {},
   "outputs": [
    {
     "data": {
      "text/html": [
       "<div>\n",
       "<style scoped>\n",
       "    .dataframe tbody tr th:only-of-type {\n",
       "        vertical-align: middle;\n",
       "    }\n",
       "\n",
       "    .dataframe tbody tr th {\n",
       "        vertical-align: top;\n",
       "    }\n",
       "\n",
       "    .dataframe thead th {\n",
       "        text-align: right;\n",
       "    }\n",
       "</style>\n",
       "<table border=\"1\" class=\"dataframe\">\n",
       "  <thead>\n",
       "    <tr style=\"text-align: right;\">\n",
       "      <th></th>\n",
       "      <th>transaction_id</th>\n",
       "      <th>cust_id</th>\n",
       "      <th>tran_date</th>\n",
       "      <th>prod_subcat_code</th>\n",
       "      <th>prod_cat_code</th>\n",
       "      <th>Qty</th>\n",
       "      <th>Rate</th>\n",
       "      <th>Tax</th>\n",
       "      <th>total_amt</th>\n",
       "      <th>Store_type</th>\n",
       "      <th>DOB</th>\n",
       "      <th>Gender</th>\n",
       "      <th>city_code</th>\n",
       "      <th>prod_cat</th>\n",
       "      <th>prod_subcat</th>\n",
       "    </tr>\n",
       "  </thead>\n",
       "  <tbody>\n",
       "    <tr>\n",
       "      <th>0</th>\n",
       "      <td>80712190438</td>\n",
       "      <td>270351</td>\n",
       "      <td>2014-02-28</td>\n",
       "      <td>1</td>\n",
       "      <td>1</td>\n",
       "      <td>-5</td>\n",
       "      <td>-772</td>\n",
       "      <td>405.300</td>\n",
       "      <td>-4265.300</td>\n",
       "      <td>e-Shop</td>\n",
       "      <td>1981-09-26</td>\n",
       "      <td>M</td>\n",
       "      <td>5.0</td>\n",
       "      <td>Clothing</td>\n",
       "      <td>Women</td>\n",
       "    </tr>\n",
       "    <tr>\n",
       "      <th>1</th>\n",
       "      <td>29258453508</td>\n",
       "      <td>270384</td>\n",
       "      <td>2014-02-27</td>\n",
       "      <td>5</td>\n",
       "      <td>3</td>\n",
       "      <td>-5</td>\n",
       "      <td>-1497</td>\n",
       "      <td>785.925</td>\n",
       "      <td>-8270.925</td>\n",
       "      <td>e-Shop</td>\n",
       "      <td>1973-05-11</td>\n",
       "      <td>F</td>\n",
       "      <td>8.0</td>\n",
       "      <td>Electronics</td>\n",
       "      <td>Computers</td>\n",
       "    </tr>\n",
       "    <tr>\n",
       "      <th>2</th>\n",
       "      <td>51750724947</td>\n",
       "      <td>273420</td>\n",
       "      <td>2014-02-24</td>\n",
       "      <td>6</td>\n",
       "      <td>5</td>\n",
       "      <td>-2</td>\n",
       "      <td>-791</td>\n",
       "      <td>166.110</td>\n",
       "      <td>-1748.110</td>\n",
       "      <td>TeleShop</td>\n",
       "      <td>1992-07-27</td>\n",
       "      <td>M</td>\n",
       "      <td>8.0</td>\n",
       "      <td>Books</td>\n",
       "      <td>DIY</td>\n",
       "    </tr>\n",
       "    <tr>\n",
       "      <th>3</th>\n",
       "      <td>93274880719</td>\n",
       "      <td>271509</td>\n",
       "      <td>2014-02-24</td>\n",
       "      <td>11</td>\n",
       "      <td>6</td>\n",
       "      <td>-3</td>\n",
       "      <td>-1363</td>\n",
       "      <td>429.345</td>\n",
       "      <td>-4518.345</td>\n",
       "      <td>e-Shop</td>\n",
       "      <td>1981-06-08</td>\n",
       "      <td>M</td>\n",
       "      <td>3.0</td>\n",
       "      <td>Home and kitchen</td>\n",
       "      <td>Bath</td>\n",
       "    </tr>\n",
       "    <tr>\n",
       "      <th>4</th>\n",
       "      <td>51750724947</td>\n",
       "      <td>273420</td>\n",
       "      <td>2014-02-23</td>\n",
       "      <td>6</td>\n",
       "      <td>5</td>\n",
       "      <td>-2</td>\n",
       "      <td>-791</td>\n",
       "      <td>166.110</td>\n",
       "      <td>-1748.110</td>\n",
       "      <td>TeleShop</td>\n",
       "      <td>1992-07-27</td>\n",
       "      <td>M</td>\n",
       "      <td>8.0</td>\n",
       "      <td>Books</td>\n",
       "      <td>DIY</td>\n",
       "    </tr>\n",
       "    <tr>\n",
       "      <th>5</th>\n",
       "      <td>97439039119</td>\n",
       "      <td>272357</td>\n",
       "      <td>2014-02-23</td>\n",
       "      <td>8</td>\n",
       "      <td>3</td>\n",
       "      <td>-2</td>\n",
       "      <td>-824</td>\n",
       "      <td>173.040</td>\n",
       "      <td>-1821.040</td>\n",
       "      <td>TeleShop</td>\n",
       "      <td>1982-10-09</td>\n",
       "      <td>F</td>\n",
       "      <td>6.0</td>\n",
       "      <td>Electronics</td>\n",
       "      <td>Personal Appliances</td>\n",
       "    </tr>\n",
       "    <tr>\n",
       "      <th>6</th>\n",
       "      <td>45649838090</td>\n",
       "      <td>273667</td>\n",
       "      <td>2014-02-22</td>\n",
       "      <td>11</td>\n",
       "      <td>6</td>\n",
       "      <td>-1</td>\n",
       "      <td>-1450</td>\n",
       "      <td>152.250</td>\n",
       "      <td>-1602.250</td>\n",
       "      <td>e-Shop</td>\n",
       "      <td>1981-05-29</td>\n",
       "      <td>M</td>\n",
       "      <td>9.0</td>\n",
       "      <td>Home and kitchen</td>\n",
       "      <td>Bath</td>\n",
       "    </tr>\n",
       "    <tr>\n",
       "      <th>7</th>\n",
       "      <td>22643667930</td>\n",
       "      <td>271489</td>\n",
       "      <td>2014-02-22</td>\n",
       "      <td>12</td>\n",
       "      <td>6</td>\n",
       "      <td>-1</td>\n",
       "      <td>-1225</td>\n",
       "      <td>128.625</td>\n",
       "      <td>-1353.625</td>\n",
       "      <td>TeleShop</td>\n",
       "      <td>1971-04-21</td>\n",
       "      <td>M</td>\n",
       "      <td>9.0</td>\n",
       "      <td>Home and kitchen</td>\n",
       "      <td>Tools</td>\n",
       "    </tr>\n",
       "    <tr>\n",
       "      <th>8</th>\n",
       "      <td>79792372943</td>\n",
       "      <td>275108</td>\n",
       "      <td>2014-02-22</td>\n",
       "      <td>3</td>\n",
       "      <td>1</td>\n",
       "      <td>-3</td>\n",
       "      <td>-908</td>\n",
       "      <td>286.020</td>\n",
       "      <td>-3010.020</td>\n",
       "      <td>MBR</td>\n",
       "      <td>1971-11-04</td>\n",
       "      <td>F</td>\n",
       "      <td>8.0</td>\n",
       "      <td>Clothing</td>\n",
       "      <td>Kids</td>\n",
       "    </tr>\n",
       "    <tr>\n",
       "      <th>9</th>\n",
       "      <td>50076728598</td>\n",
       "      <td>269014</td>\n",
       "      <td>2014-02-21</td>\n",
       "      <td>8</td>\n",
       "      <td>3</td>\n",
       "      <td>-4</td>\n",
       "      <td>-581</td>\n",
       "      <td>244.020</td>\n",
       "      <td>-2568.020</td>\n",
       "      <td>e-Shop</td>\n",
       "      <td>1979-11-27</td>\n",
       "      <td>F</td>\n",
       "      <td>3.0</td>\n",
       "      <td>Electronics</td>\n",
       "      <td>Personal Appliances</td>\n",
       "    </tr>\n",
       "  </tbody>\n",
       "</table>\n",
       "</div>"
      ],
      "text/plain": [
       "   transaction_id  cust_id  tran_date  prod_subcat_code  prod_cat_code  Qty  \\\n",
       "0     80712190438   270351 2014-02-28                 1              1   -5   \n",
       "1     29258453508   270384 2014-02-27                 5              3   -5   \n",
       "2     51750724947   273420 2014-02-24                 6              5   -2   \n",
       "3     93274880719   271509 2014-02-24                11              6   -3   \n",
       "4     51750724947   273420 2014-02-23                 6              5   -2   \n",
       "5     97439039119   272357 2014-02-23                 8              3   -2   \n",
       "6     45649838090   273667 2014-02-22                11              6   -1   \n",
       "7     22643667930   271489 2014-02-22                12              6   -1   \n",
       "8     79792372943   275108 2014-02-22                 3              1   -3   \n",
       "9     50076728598   269014 2014-02-21                 8              3   -4   \n",
       "\n",
       "   Rate      Tax  total_amt Store_type        DOB Gender  city_code  \\\n",
       "0  -772  405.300  -4265.300     e-Shop 1981-09-26      M        5.0   \n",
       "1 -1497  785.925  -8270.925     e-Shop 1973-05-11      F        8.0   \n",
       "2  -791  166.110  -1748.110   TeleShop 1992-07-27      M        8.0   \n",
       "3 -1363  429.345  -4518.345     e-Shop 1981-06-08      M        3.0   \n",
       "4  -791  166.110  -1748.110   TeleShop 1992-07-27      M        8.0   \n",
       "5  -824  173.040  -1821.040   TeleShop 1982-10-09      F        6.0   \n",
       "6 -1450  152.250  -1602.250     e-Shop 1981-05-29      M        9.0   \n",
       "7 -1225  128.625  -1353.625   TeleShop 1971-04-21      M        9.0   \n",
       "8  -908  286.020  -3010.020        MBR 1971-11-04      F        8.0   \n",
       "9  -581  244.020  -2568.020     e-Shop 1979-11-27      F        3.0   \n",
       "\n",
       "           prod_cat          prod_subcat  \n",
       "0          Clothing                Women  \n",
       "1       Electronics            Computers  \n",
       "2             Books                  DIY  \n",
       "3  Home and kitchen                 Bath  \n",
       "4             Books                  DIY  \n",
       "5       Electronics  Personal Appliances  \n",
       "6  Home and kitchen                 Bath  \n",
       "7  Home and kitchen                Tools  \n",
       "8          Clothing                 Kids  \n",
       "9       Electronics  Personal Appliances  "
      ]
     },
     "execution_count": 66,
     "metadata": {},
     "output_type": "execute_result"
    }
   ],
   "source": [
    "customer_final.head(10)"
   ]
  },
  {
   "cell_type": "code",
   "execution_count": 67,
   "id": "c2b9a5c0-190c-4669-975f-6cdb8f1f6d76",
   "metadata": {},
   "outputs": [
    {
     "data": {
      "text/html": [
       "<div>\n",
       "<style scoped>\n",
       "    .dataframe tbody tr th:only-of-type {\n",
       "        vertical-align: middle;\n",
       "    }\n",
       "\n",
       "    .dataframe tbody tr th {\n",
       "        vertical-align: top;\n",
       "    }\n",
       "\n",
       "    .dataframe thead th {\n",
       "        text-align: right;\n",
       "    }\n",
       "</style>\n",
       "<table border=\"1\" class=\"dataframe\">\n",
       "  <thead>\n",
       "    <tr style=\"text-align: right;\">\n",
       "      <th></th>\n",
       "      <th>transaction_id</th>\n",
       "      <th>cust_id</th>\n",
       "      <th>tran_date</th>\n",
       "      <th>prod_subcat_code</th>\n",
       "      <th>prod_cat_code</th>\n",
       "      <th>Qty</th>\n",
       "      <th>Rate</th>\n",
       "      <th>Tax</th>\n",
       "      <th>total_amt</th>\n",
       "      <th>Store_type</th>\n",
       "      <th>DOB</th>\n",
       "      <th>Gender</th>\n",
       "      <th>city_code</th>\n",
       "      <th>prod_cat</th>\n",
       "      <th>prod_subcat</th>\n",
       "    </tr>\n",
       "  </thead>\n",
       "  <tbody>\n",
       "    <tr>\n",
       "      <th>23043</th>\n",
       "      <td>49882891062</td>\n",
       "      <td>271982</td>\n",
       "      <td>2011-01-25</td>\n",
       "      <td>10</td>\n",
       "      <td>5</td>\n",
       "      <td>4</td>\n",
       "      <td>1330</td>\n",
       "      <td>558.600</td>\n",
       "      <td>5878.600</td>\n",
       "      <td>e-Shop</td>\n",
       "      <td>1976-08-10</td>\n",
       "      <td>M</td>\n",
       "      <td>8.0</td>\n",
       "      <td>Books</td>\n",
       "      <td>Non-Fiction</td>\n",
       "    </tr>\n",
       "    <tr>\n",
       "      <th>23044</th>\n",
       "      <td>14787475597</td>\n",
       "      <td>273982</td>\n",
       "      <td>2011-01-25</td>\n",
       "      <td>4</td>\n",
       "      <td>3</td>\n",
       "      <td>5</td>\n",
       "      <td>969</td>\n",
       "      <td>508.725</td>\n",
       "      <td>5353.725</td>\n",
       "      <td>e-Shop</td>\n",
       "      <td>1991-10-12</td>\n",
       "      <td>M</td>\n",
       "      <td>4.0</td>\n",
       "      <td>Electronics</td>\n",
       "      <td>Mobiles</td>\n",
       "    </tr>\n",
       "    <tr>\n",
       "      <th>23045</th>\n",
       "      <td>50691119572</td>\n",
       "      <td>273031</td>\n",
       "      <td>2011-01-25</td>\n",
       "      <td>6</td>\n",
       "      <td>5</td>\n",
       "      <td>1</td>\n",
       "      <td>1148</td>\n",
       "      <td>120.540</td>\n",
       "      <td>1268.540</td>\n",
       "      <td>TeleShop</td>\n",
       "      <td>1980-01-17</td>\n",
       "      <td>F</td>\n",
       "      <td>8.0</td>\n",
       "      <td>Books</td>\n",
       "      <td>DIY</td>\n",
       "    </tr>\n",
       "    <tr>\n",
       "      <th>23046</th>\n",
       "      <td>40893803228</td>\n",
       "      <td>272049</td>\n",
       "      <td>2011-01-25</td>\n",
       "      <td>11</td>\n",
       "      <td>6</td>\n",
       "      <td>3</td>\n",
       "      <td>1077</td>\n",
       "      <td>339.255</td>\n",
       "      <td>3570.255</td>\n",
       "      <td>e-Shop</td>\n",
       "      <td>1975-06-28</td>\n",
       "      <td>F</td>\n",
       "      <td>6.0</td>\n",
       "      <td>Home and kitchen</td>\n",
       "      <td>Bath</td>\n",
       "    </tr>\n",
       "    <tr>\n",
       "      <th>23047</th>\n",
       "      <td>30856003613</td>\n",
       "      <td>266866</td>\n",
       "      <td>2011-01-25</td>\n",
       "      <td>4</td>\n",
       "      <td>2</td>\n",
       "      <td>2</td>\n",
       "      <td>444</td>\n",
       "      <td>93.240</td>\n",
       "      <td>981.240</td>\n",
       "      <td>TeleShop</td>\n",
       "      <td>1974-04-18</td>\n",
       "      <td>M</td>\n",
       "      <td>4.0</td>\n",
       "      <td>Footwear</td>\n",
       "      <td>Kids</td>\n",
       "    </tr>\n",
       "    <tr>\n",
       "      <th>23048</th>\n",
       "      <td>94340757522</td>\n",
       "      <td>274550</td>\n",
       "      <td>2011-01-25</td>\n",
       "      <td>12</td>\n",
       "      <td>5</td>\n",
       "      <td>1</td>\n",
       "      <td>1264</td>\n",
       "      <td>132.720</td>\n",
       "      <td>1396.720</td>\n",
       "      <td>e-Shop</td>\n",
       "      <td>1972-02-21</td>\n",
       "      <td>M</td>\n",
       "      <td>7.0</td>\n",
       "      <td>Books</td>\n",
       "      <td>Academic</td>\n",
       "    </tr>\n",
       "    <tr>\n",
       "      <th>23049</th>\n",
       "      <td>89780862956</td>\n",
       "      <td>270022</td>\n",
       "      <td>2011-01-25</td>\n",
       "      <td>4</td>\n",
       "      <td>1</td>\n",
       "      <td>1</td>\n",
       "      <td>677</td>\n",
       "      <td>71.085</td>\n",
       "      <td>748.085</td>\n",
       "      <td>e-Shop</td>\n",
       "      <td>1984-04-27</td>\n",
       "      <td>M</td>\n",
       "      <td>9.0</td>\n",
       "      <td>Clothing</td>\n",
       "      <td>Mens</td>\n",
       "    </tr>\n",
       "    <tr>\n",
       "      <th>23050</th>\n",
       "      <td>85115299378</td>\n",
       "      <td>271020</td>\n",
       "      <td>2011-01-25</td>\n",
       "      <td>2</td>\n",
       "      <td>6</td>\n",
       "      <td>4</td>\n",
       "      <td>1052</td>\n",
       "      <td>441.840</td>\n",
       "      <td>4649.840</td>\n",
       "      <td>MBR</td>\n",
       "      <td>1976-06-20</td>\n",
       "      <td>M</td>\n",
       "      <td>8.0</td>\n",
       "      <td>Home and kitchen</td>\n",
       "      <td>Furnishing</td>\n",
       "    </tr>\n",
       "    <tr>\n",
       "      <th>23051</th>\n",
       "      <td>72870271171</td>\n",
       "      <td>270911</td>\n",
       "      <td>2011-01-25</td>\n",
       "      <td>11</td>\n",
       "      <td>5</td>\n",
       "      <td>3</td>\n",
       "      <td>1142</td>\n",
       "      <td>359.730</td>\n",
       "      <td>3785.730</td>\n",
       "      <td>TeleShop</td>\n",
       "      <td>1970-05-22</td>\n",
       "      <td>M</td>\n",
       "      <td>2.0</td>\n",
       "      <td>Books</td>\n",
       "      <td>Children</td>\n",
       "    </tr>\n",
       "    <tr>\n",
       "      <th>23052</th>\n",
       "      <td>77960931771</td>\n",
       "      <td>271961</td>\n",
       "      <td>2011-01-25</td>\n",
       "      <td>11</td>\n",
       "      <td>5</td>\n",
       "      <td>1</td>\n",
       "      <td>447</td>\n",
       "      <td>46.935</td>\n",
       "      <td>493.935</td>\n",
       "      <td>TeleShop</td>\n",
       "      <td>1982-01-15</td>\n",
       "      <td>M</td>\n",
       "      <td>1.0</td>\n",
       "      <td>Books</td>\n",
       "      <td>Children</td>\n",
       "    </tr>\n",
       "  </tbody>\n",
       "</table>\n",
       "</div>"
      ],
      "text/plain": [
       "       transaction_id  cust_id  tran_date  prod_subcat_code  prod_cat_code  \\\n",
       "23043     49882891062   271982 2011-01-25                10              5   \n",
       "23044     14787475597   273982 2011-01-25                 4              3   \n",
       "23045     50691119572   273031 2011-01-25                 6              5   \n",
       "23046     40893803228   272049 2011-01-25                11              6   \n",
       "23047     30856003613   266866 2011-01-25                 4              2   \n",
       "23048     94340757522   274550 2011-01-25                12              5   \n",
       "23049     89780862956   270022 2011-01-25                 4              1   \n",
       "23050     85115299378   271020 2011-01-25                 2              6   \n",
       "23051     72870271171   270911 2011-01-25                11              5   \n",
       "23052     77960931771   271961 2011-01-25                11              5   \n",
       "\n",
       "       Qty  Rate      Tax  total_amt Store_type        DOB Gender  city_code  \\\n",
       "23043    4  1330  558.600   5878.600     e-Shop 1976-08-10      M        8.0   \n",
       "23044    5   969  508.725   5353.725     e-Shop 1991-10-12      M        4.0   \n",
       "23045    1  1148  120.540   1268.540   TeleShop 1980-01-17      F        8.0   \n",
       "23046    3  1077  339.255   3570.255     e-Shop 1975-06-28      F        6.0   \n",
       "23047    2   444   93.240    981.240   TeleShop 1974-04-18      M        4.0   \n",
       "23048    1  1264  132.720   1396.720     e-Shop 1972-02-21      M        7.0   \n",
       "23049    1   677   71.085    748.085     e-Shop 1984-04-27      M        9.0   \n",
       "23050    4  1052  441.840   4649.840        MBR 1976-06-20      M        8.0   \n",
       "23051    3  1142  359.730   3785.730   TeleShop 1970-05-22      M        2.0   \n",
       "23052    1   447   46.935    493.935   TeleShop 1982-01-15      M        1.0   \n",
       "\n",
       "               prod_cat  prod_subcat  \n",
       "23043             Books  Non-Fiction  \n",
       "23044       Electronics      Mobiles  \n",
       "23045             Books          DIY  \n",
       "23046  Home and kitchen         Bath  \n",
       "23047          Footwear         Kids  \n",
       "23048             Books     Academic  \n",
       "23049          Clothing         Mens  \n",
       "23050  Home and kitchen   Furnishing  \n",
       "23051             Books     Children  \n",
       "23052             Books     Children  "
      ]
     },
     "execution_count": 67,
     "metadata": {},
     "output_type": "execute_result"
    }
   ],
   "source": [
    "customer_final.tail(10)"
   ]
  },
  {
   "cell_type": "markdown",
   "id": "67b8624b-ce23-483f-8bd5-46eb19762070",
   "metadata": {},
   "source": [
    "c. “Five-number summary” for continuous variables (min, Q1, median, Q3 and max)"
   ]
  },
  {
   "cell_type": "code",
   "execution_count": 70,
   "id": "0ab8ee7a-0bab-4a24-b11d-2b9466ba2351",
   "metadata": {},
   "outputs": [],
   "source": [
    "cont_var = customer_final.select_dtypes('number')\n",
    "cat_var = customer_final.select_dtypes('object')"
   ]
  },
  {
   "cell_type": "code",
   "execution_count": 72,
   "id": "f79238e6-ced0-42ff-9907-90fc2cadf059",
   "metadata": {},
   "outputs": [
    {
     "data": {
      "text/html": [
       "<div>\n",
       "<style scoped>\n",
       "    .dataframe tbody tr th:only-of-type {\n",
       "        vertical-align: middle;\n",
       "    }\n",
       "\n",
       "    .dataframe tbody tr th {\n",
       "        vertical-align: top;\n",
       "    }\n",
       "\n",
       "    .dataframe thead th {\n",
       "        text-align: right;\n",
       "    }\n",
       "</style>\n",
       "<table border=\"1\" class=\"dataframe\">\n",
       "  <thead>\n",
       "    <tr style=\"text-align: right;\">\n",
       "      <th></th>\n",
       "      <th>min</th>\n",
       "      <th>25%</th>\n",
       "      <th>50%</th>\n",
       "      <th>75%</th>\n",
       "      <th>max</th>\n",
       "    </tr>\n",
       "  </thead>\n",
       "  <tbody>\n",
       "    <tr>\n",
       "      <th>transaction_id</th>\n",
       "      <td>3268991.000</td>\n",
       "      <td>2.493864e+10</td>\n",
       "      <td>5.009313e+10</td>\n",
       "      <td>7.533000e+10</td>\n",
       "      <td>9.998755e+10</td>\n",
       "    </tr>\n",
       "    <tr>\n",
       "      <th>cust_id</th>\n",
       "      <td>266783.000</td>\n",
       "      <td>2.689350e+05</td>\n",
       "      <td>2.709800e+05</td>\n",
       "      <td>2.731140e+05</td>\n",
       "      <td>2.752650e+05</td>\n",
       "    </tr>\n",
       "    <tr>\n",
       "      <th>prod_subcat_code</th>\n",
       "      <td>1.000</td>\n",
       "      <td>3.000000e+00</td>\n",
       "      <td>5.000000e+00</td>\n",
       "      <td>1.000000e+01</td>\n",
       "      <td>1.200000e+01</td>\n",
       "    </tr>\n",
       "    <tr>\n",
       "      <th>prod_cat_code</th>\n",
       "      <td>1.000</td>\n",
       "      <td>2.000000e+00</td>\n",
       "      <td>4.000000e+00</td>\n",
       "      <td>5.000000e+00</td>\n",
       "      <td>6.000000e+00</td>\n",
       "    </tr>\n",
       "    <tr>\n",
       "      <th>Qty</th>\n",
       "      <td>-5.000</td>\n",
       "      <td>1.000000e+00</td>\n",
       "      <td>3.000000e+00</td>\n",
       "      <td>4.000000e+00</td>\n",
       "      <td>5.000000e+00</td>\n",
       "    </tr>\n",
       "    <tr>\n",
       "      <th>Rate</th>\n",
       "      <td>-1499.000</td>\n",
       "      <td>3.120000e+02</td>\n",
       "      <td>7.100000e+02</td>\n",
       "      <td>1.109000e+03</td>\n",
       "      <td>1.500000e+03</td>\n",
       "    </tr>\n",
       "    <tr>\n",
       "      <th>Tax</th>\n",
       "      <td>7.350</td>\n",
       "      <td>9.828000e+01</td>\n",
       "      <td>1.990800e+02</td>\n",
       "      <td>3.657150e+02</td>\n",
       "      <td>7.875000e+02</td>\n",
       "    </tr>\n",
       "    <tr>\n",
       "      <th>total_amt</th>\n",
       "      <td>-8270.925</td>\n",
       "      <td>7.624500e+02</td>\n",
       "      <td>1.754740e+03</td>\n",
       "      <td>3.569150e+03</td>\n",
       "      <td>8.287500e+03</td>\n",
       "    </tr>\n",
       "    <tr>\n",
       "      <th>city_code</th>\n",
       "      <td>1.000</td>\n",
       "      <td>3.000000e+00</td>\n",
       "      <td>5.000000e+00</td>\n",
       "      <td>8.000000e+00</td>\n",
       "      <td>1.000000e+01</td>\n",
       "    </tr>\n",
       "  </tbody>\n",
       "</table>\n",
       "</div>"
      ],
      "text/plain": [
       "                          min           25%           50%           75%  \\\n",
       "transaction_id    3268991.000  2.493864e+10  5.009313e+10  7.533000e+10   \n",
       "cust_id            266783.000  2.689350e+05  2.709800e+05  2.731140e+05   \n",
       "prod_subcat_code        1.000  3.000000e+00  5.000000e+00  1.000000e+01   \n",
       "prod_cat_code           1.000  2.000000e+00  4.000000e+00  5.000000e+00   \n",
       "Qty                    -5.000  1.000000e+00  3.000000e+00  4.000000e+00   \n",
       "Rate                -1499.000  3.120000e+02  7.100000e+02  1.109000e+03   \n",
       "Tax                     7.350  9.828000e+01  1.990800e+02  3.657150e+02   \n",
       "total_amt           -8270.925  7.624500e+02  1.754740e+03  3.569150e+03   \n",
       "city_code               1.000  3.000000e+00  5.000000e+00  8.000000e+00   \n",
       "\n",
       "                           max  \n",
       "transaction_id    9.998755e+10  \n",
       "cust_id           2.752650e+05  \n",
       "prod_subcat_code  1.200000e+01  \n",
       "prod_cat_code     6.000000e+00  \n",
       "Qty               5.000000e+00  \n",
       "Rate              1.500000e+03  \n",
       "Tax               7.875000e+02  \n",
       "total_amt         8.287500e+03  \n",
       "city_code         1.000000e+01  "
      ]
     },
     "execution_count": 72,
     "metadata": {},
     "output_type": "execute_result"
    }
   ],
   "source": [
    "cont_var.describe().loc['min':'max'].T"
   ]
  },
  {
   "cell_type": "markdown",
   "id": "74453b30-b481-4dbb-bd76-192eab4be4d7",
   "metadata": {},
   "source": [
    "d. Frequency tables for all the categorical variables"
   ]
  },
  {
   "cell_type": "code",
   "execution_count": 76,
   "id": "cc63f374-ffcb-42c1-ba1f-34c2f45f3cd0",
   "metadata": {},
   "outputs": [
    {
     "name": "stdout",
     "output_type": "stream",
     "text": [
      "Store_type\n",
      "e-Shop            9311\n",
      "MBR               4661\n",
      "Flagship store    4577\n",
      "TeleShop          4504\n",
      "Name: count, dtype: int64\n",
      "Gender\n",
      "M    11811\n",
      "F    11233\n",
      "Name: count, dtype: int64\n",
      "prod_cat\n",
      "Books               6069\n",
      "Electronics         4898\n",
      "Home and kitchen    4129\n",
      "Footwear            2999\n",
      "Clothing            2960\n",
      "Bags                1998\n",
      "Name: count, dtype: int64\n",
      "prod_subcat\n",
      "Women                  3048\n",
      "Mens                   2912\n",
      "Kids                   1997\n",
      "Tools                  1062\n",
      "Fiction                1043\n",
      "Kitchen                1037\n",
      "Children               1035\n",
      "Mobiles                1031\n",
      "Comics                 1031\n",
      "Bath                   1023\n",
      "Furnishing             1007\n",
      "Non-Fiction            1004\n",
      "DIY                     989\n",
      "Cameras                 985\n",
      "Personal Appliances     972\n",
      "Academic                967\n",
      "Computers               958\n",
      "Audio and video         952\n",
      "Name: count, dtype: int64\n"
     ]
    }
   ],
   "source": [
    "for i in cat_var:\n",
    "    print(customer_final[i].value_counts())"
   ]
  },
  {
   "cell_type": "markdown",
   "id": "9abb0b83-a32a-4167-ba4a-c966f04cad1c",
   "metadata": {},
   "source": [
    "3. Generate histograms for all continuous variables and frequency bars for categorical variables."
   ]
  },
  {
   "cell_type": "code",
   "execution_count": 79,
   "id": "f8153b6e-6fa6-476b-8006-7c0eff839a9e",
   "metadata": {},
   "outputs": [
    {
     "name": "stdout",
     "output_type": "stream",
     "text": [
      "transaction_id\n"
     ]
    },
    {
     "data": {
      "image/png": "[encoded data removed]",
      "text/plain": [
       "<Figure size 300x300 with 1 Axes>"
      ]
     },
     "metadata": {},
     "output_type": "display_data"
    },
    {
     "name": "stdout",
     "output_type": "stream",
     "text": [
      "cust_id\n"
     ]
    },
    {
     "data": {
      "image/png": "[encoded data removed]",
      "text/plain": [
       "<Figure size 300x300 with 1 Axes>"
      ]
     },
     "metadata": {},
     "output_type": "display_data"
    },
    {
     "name": "stdout",
     "output_type": "stream",
     "text": [
      "prod_subcat_code\n"
     ]
    },
    {
     "data": {
      "image/png": "[encoded data removed]",
      "text/plain": [
       "<Figure size 300x300 with 1 Axes>"
      ]
     },
     "metadata": {},
     "output_type": "display_data"
    },
    {
     "name": "stdout",
     "output_type": "stream",
     "text": [
      "prod_cat_code\n"
     ]
    },
    {
     "data": {
      "image/png": "[encoded data removed]",
      "text/plain": [
       "<Figure size 300x300 with 1 Axes>"
      ]
     },
     "metadata": {},
     "output_type": "display_data"
    },
    {
     "name": "stdout",
     "output_type": "stream",
     "text": [
      "Qty\n"
     ]
    },
    {
     "data": {
      "image/png": "[encoded data removed]",
      "text/plain": [
       "<Figure size 300x300 with 1 Axes>"
      ]
     },
     "metadata": {},
     "output_type": "display_data"
    },
    {
     "name": "stdout",
     "output_type": "stream",
     "text": [
      "Rate\n"
     ]
    },
    {
     "data": {
      "image/png": "[encoded data removed]",
      "text/plain": [
       "<Figure size 300x300 with 1 Axes>"
      ]
     },
     "metadata": {},
     "output_type": "display_data"
    },
    {
     "name": "stdout",
     "output_type": "stream",
     "text": [
      "Tax\n"
     ]
    },
    {
     "data": {
      "image/png": "[encoded data removed]",
      "text/plain": [
       "<Figure size 300x300 with 1 Axes>"
      ]
     },
     "metadata": {},
     "output_type": "display_data"
    },
    {
     "name": "stdout",
     "output_type": "stream",
     "text": [
      "total_amt\n"
     ]
    },
    {
     "data": {
      "image/png": "[encoded data removed]",
      "text/plain": [
       "<Figure size 300x300 with 1 Axes>"
      ]
     },
     "metadata": {},
     "output_type": "display_data"
    },
    {
     "name": "stdout",
     "output_type": "stream",
     "text": [
      "city_code\n"
     ]
    },
    {
     "data": {
      "image/png": "[encoded data removed]",
      "text/plain": [
       "<Figure size 300x300 with 1 Axes>"
      ]
     },
     "metadata": {},
     "output_type": "display_data"
    }
   ],
   "source": [
    "for i in cont_var.columns:\n",
    "    print(i)\n",
    "    plt.figure(figsize=(3,3))\n",
    "    sns.histplot(customer_final[i])\n",
    "    plt.xticks(rotation=45)\n",
    "    plt.show()"
   ]
  },
  {
   "cell_type": "code",
   "execution_count": 80,
   "id": "1c4e144c-797f-445c-8c52-5d72c031d7d1",
   "metadata": {},
   "outputs": [
    {
     "name": "stdout",
     "output_type": "stream",
     "text": [
      "Store_type\n"
     ]
    },
    {
     "data": {
      "image/png": "[encoded data removed]",
      "text/plain": [
       "<Figure size 800x200 with 1 Axes>"
      ]
     },
     "metadata": {},
     "output_type": "display_data"
    },
    {
     "name": "stdout",
     "output_type": "stream",
     "text": [
      "Gender\n"
     ]
    },
    {
     "data": {
      "image/png": "[encoded data removed]",
      "text/plain": [
       "<Figure size 800x200 with 1 Axes>"
      ]
     },
     "metadata": {},
     "output_type": "display_data"
    },
    {
     "name": "stdout",
     "output_type": "stream",
     "text": [
      "prod_cat\n"
     ]
    },
    {
     "data": {
      "image/png": "[encoded data removed]",
      "text/plain": [
       "<Figure size 800x200 with 1 Axes>"
      ]
     },
     "metadata": {},
     "output_type": "display_data"
    },
    {
     "name": "stdout",
     "output_type": "stream",
     "text": [
      "prod_subcat\n"
     ]
    },
    {
     "data": {
      "image/png": "[encoded data removed]",
      "text/plain": [
       "<Figure size 800x200 with 1 Axes>"
      ]
     },
     "metadata": {},
     "output_type": "display_data"
    }
   ],
   "source": [
    "for i in cat_var.columns:\n",
    "    print(i)\n",
    "    plt.figure(figsize=(8,2))\n",
    "    customer_final[i].value_counts().plot(kind='bar')\n",
    "    plt.xticks(rotation=45)\n",
    "    plt.show()"
   ]
  },
  {
   "cell_type": "markdown",
   "id": "1a12185b-c30f-4907-8e5d-47107116f342",
   "metadata": {},
   "source": [
    "4. Calculate the following information using the merged dataset :"
   ]
  },
  {
   "cell_type": "markdown",
   "id": "03a3780b-3a06-4cdf-a4da-65b4562924a3",
   "metadata": {},
   "source": [
    "a. Time period of the available transaction data\n"
   ]
  },
  {
   "cell_type": "code",
   "execution_count": 83,
   "id": "0e4dcf1f-4336-45b8-ad2e-c44ec7278046",
   "metadata": {},
   "outputs": [
    {
     "data": {
      "text/plain": [
       "Timedelta('1130 days 00:00:00')"
      ]
     },
     "execution_count": 83,
     "metadata": {},
     "output_type": "execute_result"
    }
   ],
   "source": [
    "customer_final['tran_date'].max() - customer_final['tran_date'].min()"
   ]
  },
  {
   "cell_type": "markdown",
   "id": "f28be5f0-31af-4243-978b-2a4d0d1854a3",
   "metadata": {},
   "source": [
    "b. Count of transactions where the total amount of transaction was negative"
   ]
  },
  {
   "cell_type": "code",
   "execution_count": 85,
   "id": "42d1eeb1-79dd-4ce8-a511-87301d15074d",
   "metadata": {},
   "outputs": [
    {
     "data": {
      "text/plain": [
       "2177"
      ]
     },
     "execution_count": 85,
     "metadata": {},
     "output_type": "execute_result"
    }
   ],
   "source": [
    "customer_final[customer_final['total_amt']<0].transaction_id.count()"
   ]
  },
  {
   "cell_type": "markdown",
   "id": "97695f7d-e8e1-4606-94cc-b07938082676",
   "metadata": {},
   "source": [
    "5. Analyze which product categories are more popular among females vs male customers."
   ]
  },
  {
   "cell_type": "code",
   "execution_count": 87,
   "id": "ffca54dd-8aa1-444f-a81b-3940141ad0b0",
   "metadata": {},
   "outputs": [
    {
     "name": "stdout",
     "output_type": "stream",
     "text": [
      "The product category popular among males is Books and among females is Books\n"
     ]
    }
   ],
   "source": [
    "filtered_data = customer_final.groupby(['Gender','prod_cat']).Qty.count().reset_index()\n",
    "female_prod = filtered_data[filtered_data['Gender']=='F'].sort_values(by='Qty',ascending=False).iloc[0].prod_cat\n",
    "male_prod = filtered_data[filtered_data['Gender']=='M'].sort_values(by='Qty',ascending=False).iloc[0].prod_cat\n",
    "print('The product category popular among males is',male_prod,'and among females is',female_prod)"
   ]
  },
  {
   "cell_type": "markdown",
   "id": "d4e6d97e-f5bd-4e23-858b-65da8f8e3191",
   "metadata": {},
   "source": [
    "6. Which City code has the maximum customers and what was the percentage of customers from that city?"
   ]
  },
  {
   "cell_type": "code",
   "execution_count": 109,
   "id": "fa413ccb-fb76-4d34-a0d0-3f3e6eb02438",
   "metadata": {},
   "outputs": [
    {
     "name": "stdout",
     "output_type": "stream",
     "text": [
      "4.0 has the maximum customers and the percentage of customers from this city is 43.99 %\n"
     ]
    }
   ],
   "source": [
    "max_cust_city_code = customer_final.groupby('city_code').cust_id.count().sort_values(ascending=False)\\\n",
    ".index[0]\n",
    "percentage = round((customer_final.groupby('city_code').cust_id.count().sort_values(ascending=False)\\\n",
    ".iloc[0]/customer_final['cust_id'].nunique())*100,2)\n",
    "print(max_cust_city_code,'has the maximum customers and the percentage of customers from this city is',percentage,'%')"
   ]
  },
  {
   "cell_type": "markdown",
   "id": "c3f54cc2-d834-49d8-9666-e7f2af43ad50",
   "metadata": {},
   "source": [
    "7. Which store type sells the maximum products by value and by quantity?\n"
   ]
  },
  {
   "cell_type": "code",
   "execution_count": 91,
   "id": "1920a2d6-cb41-4c33-be71-495a749df411",
   "metadata": {},
   "outputs": [
    {
     "name": "stdout",
     "output_type": "stream",
     "text": [
      "e-Shop sells the maximum products by value and e-Shop seels the maximum products by quantity\n"
     ]
    }
   ],
   "source": [
    "store_max_value = customer_final.groupby('Store_type').total_amt.sum().sort_values(ascending=False).index[0]\n",
    "store_max_qty = customer_final.groupby('Store_type').Qty.sum().sort_values(ascending=False).index[0]\n",
    "print(store_max_value,'sells the maximum products by value and',store_max_qty,'seels the maximum products by quantity')"
   ]
  },
  {
   "cell_type": "markdown",
   "id": "4ba12ff2-637a-447f-be9a-cb263bed4954",
   "metadata": {},
   "source": [
    "8. What was the total amount earned from the \"Electronics\" and \"Clothing\" categories from Flagship Stores?"
   ]
  },
  {
   "cell_type": "code",
   "execution_count": 111,
   "id": "7737709e-7d62-4a79-81c1-71f268ad66b1",
   "metadata": {},
   "outputs": [
    {
     "name": "stdout",
     "output_type": "stream",
     "text": [
      "The total amount earned from the \"Electronics\" and \"Clothing\" categories from Flagship Stores is 3409559.27\n"
     ]
    }
   ],
   "source": [
    "amount = customer_final[(customer_final['Store_type']=='Flagship store')&(customer_final['prod_cat']\\\n",
    ".isin(['Electronics','Clothing']))].total_amt.sum()\n",
    "print('The total amount earned from the \"Electronics\" and \"Clothing\" categories from Flagship Stores is',amount)"
   ]
  },
  {
   "cell_type": "markdown",
   "id": "88470afa-f674-42a4-bb28-1224135df814",
   "metadata": {},
   "source": [
    "9. What was the total amount earned from \"Male\" customers under the \"Electronics\" category?"
   ]
  },
  {
   "cell_type": "code",
   "execution_count": 114,
   "id": "8d72bcee-a837-480b-9bf0-b1afd981aa68",
   "metadata": {},
   "outputs": [
    {
     "name": "stdout",
     "output_type": "stream",
     "text": [
      "5703109.42 is the total amount earned from \"Male\" customers under the \"Electronics\" category\n"
     ]
    }
   ],
   "source": [
    "amount = round(customer_final[(customer_final['Gender']=='M')&(customer_final['prod_cat']=='Electronics')].total_amt.sum(),2)\n",
    "print(amount,'is the total amount earned from \"Male\" customers under the \"Electronics\" category')"
   ]
  },
  {
   "cell_type": "markdown",
   "id": "c3e2faba-d364-48de-83d1-933d1038e936",
   "metadata": {},
   "source": [
    "10. How many customers have more than 10 unique transactions, after removing all transactions which have any negative amounts?"
   ]
  },
  {
   "cell_type": "code",
   "execution_count": 117,
   "id": "615fd596-1f3a-4b30-9bc8-fe3048bcf5eb",
   "metadata": {},
   "outputs": [
    {
     "name": "stdout",
     "output_type": "stream",
     "text": [
      "6 customers have more than 10 unique transactions, after removing all transactions which have any negative amounts\n"
     ]
    }
   ],
   "source": [
    "filtered_data = customer_final[customer_final['total_amt']>0].groupby('cust_id').transaction_id.nunique()\n",
    "customers = filtered_data[filtered_data>10].count()\n",
    "print(customers,'customers have more than 10 unique transactions, after removing all transactions which have any negative amounts')"
   ]
  },
  {
   "cell_type": "markdown",
   "id": "18820f80-8f3b-4a69-b7b7-8e58491a1db0",
   "metadata": {},
   "source": [
    "11. For all customers aged between 25 - 35, find out:"
   ]
  },
  {
   "cell_type": "code",
   "execution_count": 120,
   "id": "39a80789-2f6c-4d37-8cb5-1577e772f660",
   "metadata": {},
   "outputs": [],
   "source": [
    "from datetime import datetime"
   ]
  },
  {
   "cell_type": "code",
   "execution_count": 122,
   "id": "67861f97-396a-476e-b56e-e789afbf687e",
   "metadata": {},
   "outputs": [],
   "source": [
    "customer_final['age'] = customer_final.DOB.apply(lambda x: datetime.now().year - x.year)"
   ]
  },
  {
   "cell_type": "code",
   "execution_count": 124,
   "id": "c00b7ed4-c17c-4b92-ab7a-ec5459ae2272",
   "metadata": {},
   "outputs": [],
   "source": [
    "filtered_data = customer_final[customer_final['age'].between(25,35)]"
   ]
  },
  {
   "cell_type": "markdown",
   "id": "45bf1c05-c801-493a-8e2c-addd72de76ea",
   "metadata": {},
   "source": [
    "a. What was the total amount spent for “Electronics” and “Books” product categories?"
   ]
  },
  {
   "cell_type": "code",
   "execution_count": 127,
   "id": "0875a42b-6e6c-4b13-8c78-6abff25aab0c",
   "metadata": {},
   "outputs": [
    {
     "name": "stdout",
     "output_type": "stream",
     "text": [
      "23545157.675 is the total amount spent for “Electronics” and “Books” product categories\n"
     ]
    }
   ],
   "source": [
    "amount = customer_final[customer_final['prod_cat'].isin(['Electronics','Books'])].total_amt.sum()\n",
    "print(amount,'is the total amount spent for “Electronics” and “Books” product categories')"
   ]
  },
  {
   "cell_type": "markdown",
   "id": "a7f31390-95e7-48eb-a300-a27a735f0f0b",
   "metadata": {},
   "source": [
    "b. What was the total amount spent by these customers between 1st Jan, 2014 to 1st Mar, 2014?"
   ]
  },
  {
   "cell_type": "code",
   "execution_count": 130,
   "id": "c1c189f8-66d1-464b-b240-e522eb397674",
   "metadata": {},
   "outputs": [
    {
     "name": "stdout",
     "output_type": "stream",
     "text": [
      "1202619.0150000001 was the total amount spent by these customers between 1st Jan, 2014 to 1st Mar, 2014\n"
     ]
    }
   ],
   "source": [
    "amount = customer_final[customer_final['tran_date'].between('2014-01-01','2014-03-01')].total_amt.sum()\n",
    "print(amount,'was the total amount spent by these customers between 1st Jan, 2014 to 1st Mar, 2014')"
   ]
  },
  {
   "cell_type": "code",
   "execution_count": null,
   "id": "9d031cab-ccf4-433b-ac56-48a25b9d110b",
   "metadata": {},
   "outputs": [],
   "source": []
  },
  {
   "cell_type": "code",
   "execution_count": null,
   "id": "4a3ce637-1ade-4921-af0d-e375138aae25",
   "metadata": {},
   "outputs": [],
   "source": []
  }
 ],
 "metadata": {
  "kernelspec": {
   "display_name": "Python [conda env:base] *",
   "language": "python",
   "name": "conda-base-py"
  },
  "language_info": {
   "codemirror_mode": {
    "name": "ipython",
    "version": 3
   },
   "file_extension": ".py",
   "mimetype": "text/x-python",
   "name": "python",
   "nbconvert_exporter": "python",
   "pygments_lexer": "ipython3",
   "version": "3.12.4"
  }
 },
 "nbformat": 4,
 "nbformat_minor": 5
}
